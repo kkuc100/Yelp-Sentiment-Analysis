{
  "cells": [
    {
      "cell_type": "markdown",
      "metadata": {
        "id": "qTW9bApUattE"
      },
      "source": [
        "# Yelp Sentiment EDA\n",
        "266 Summer 2024\n",
        "Kevin Kuc, "
      ]
    },
    {
      "cell_type": "markdown",
      "metadata": {
        "id": "PKiliRegbDzj"
      },
      "source": [
        "The data is publically available here:\n",
        "*   https://huggingface.co/datasets/Yelp/yelp_review_full\n",
        "\n",
        "\n",
        "**Data Dictionary**\n",
        "\n",
        "1.   'text': The review texts are escaped using double quotes (\"), and any internal double quote is escaped by 2 double quotes (\"\"). New lines are escaped by a backslash followed with an \"n\" character, that is \"\\n\".\n",
        "2.   'label': Corresponds to the score associated with the review (between 1 and 5)."
      ]
    },
    {
      "cell_type": "markdown",
      "metadata": {
        "id": "yxG_clgliD3S"
      },
      "source": [
        "## Step 1: Import packages"
      ]
    },
    {
      "cell_type": "code",
      "execution_count": 32,
      "metadata": {
        "id": "4HU-TTTLiUab"
      },
      "outputs": [],
      "source": [
        "import pandas as pd\n",
        "import numpy as np\n",
        "import csv\n",
        "import copy\n",
        "from datasets import load_dataset\n",
        "\n",
        "# data preprocessing\n",
        "from sklearn import preprocessing\n",
        "from sklearn.utils import resample\n",
        "from sklearn.model_selection import train_test_split\n",
        "from sklearn.preprocessing import StandardScaler\n",
        "from sklearn.decomposition import PCA\n",
        "from sklearn.decomposition import KernelPCA\n",
        "from sklearn.decomposition import IncrementalPCA\n",
        "from numpy.random.mtrand import binomial\n",
        "import random\n",
        "import string\n",
        "from nltk.corpus import stopwords\n",
        "from contractions import fix\n",
        "\n",
        "# exploratory analysis\n",
        "import matplotlib.pyplot as plt\n",
        "from matplotlib import cm\n",
        "from matplotlib.colors import ListedColormap, LinearSegmentedColormap\n",
        "import mlxtend\n",
        "from mlxtend.plotting import scatterplotmatrix\n",
        "from mlxtend.plotting import heatmap\n",
        "import seaborn as sns\n",
        "from IPython.display import Image\n",
        "from textblob import TextBlob\n",
        "from wordcloud import WordCloud\n",
        "\n",
        "# model fit\n",
        "import statsmodels.api as sm\n",
        "#import tensorflow as tf\n",
        "#from tensorflow import keras\n",
        "#from keras import metrics\n",
        "#from tensorflow.keras import initializers\n",
        "\n",
        "\n",
        "# ignore warnings (libraries are rapidly changing)\n",
        "import warnings\n",
        "warnings.filterwarnings('ignore')\n",
        "warnings.filterwarnings(\"ignore\", category=UserWarning, module=\"matplotlib\")\n",
        "\n",
        "# These commands below set some options for pandas and to have matplotlib show the charts in the notebook\n",
        "pd.set_option('display.max_rows', 1000)\n",
        "pd.set_option('display.max_columns', None)\n",
        "pd.options.display.float_format = '{:,.2f}'.format\n",
        "pd.options.mode.chained_assignment = None  # default='warn'"
      ]
    },
    {
      "cell_type": "markdown",
      "metadata": {
        "id": "aHv2i3W5ijto"
      },
      "source": [
        "## Step 2: Read data"
      ]
    },
    {
      "cell_type": "code",
      "execution_count": 33,
      "metadata": {
        "colab": {
          "base_uri": "https://localhost:8080/"
        },
        "id": "-XkCqoc1kMnU",
        "outputId": "50c2a0f8-b7ec-4a86-e93e-e556714d50b4"
      },
      "outputs": [
        {
          "name": "stdout",
          "output_type": "stream",
          "text": [
            "Shape of data:  (650000, 2)\n"
          ]
        }
      ],
      "source": [
        "dataset = load_dataset('yelp_review_full')\n",
        "df = dataset['train'].to_pandas()\n",
        "# print shape of df\n",
        "print(\n",
        "    'Shape of data: ',\n",
        "    df.shape\n",
        ")"
      ]
    },
    {
      "cell_type": "code",
      "execution_count": 34,
      "metadata": {},
      "outputs": [
        {
          "data": {
            "text/html": [
              "<div>\n",
              "<style scoped>\n",
              "    .dataframe tbody tr th:only-of-type {\n",
              "        vertical-align: middle;\n",
              "    }\n",
              "\n",
              "    .dataframe tbody tr th {\n",
              "        vertical-align: top;\n",
              "    }\n",
              "\n",
              "    .dataframe thead th {\n",
              "        text-align: right;\n",
              "    }\n",
              "</style>\n",
              "<table border=\"1\" class=\"dataframe\">\n",
              "  <thead>\n",
              "    <tr style=\"text-align: right;\">\n",
              "      <th></th>\n",
              "      <th>label</th>\n",
              "      <th>text</th>\n",
              "    </tr>\n",
              "  </thead>\n",
              "  <tbody>\n",
              "    <tr>\n",
              "      <th>0</th>\n",
              "      <td>4</td>\n",
              "      <td>dr. goldberg offers everything i look for in a...</td>\n",
              "    </tr>\n",
              "    <tr>\n",
              "      <th>1</th>\n",
              "      <td>1</td>\n",
              "      <td>Unfortunately, the frustration of being Dr. Go...</td>\n",
              "    </tr>\n",
              "    <tr>\n",
              "      <th>2</th>\n",
              "      <td>3</td>\n",
              "      <td>Been going to Dr. Goldberg for over 10 years. ...</td>\n",
              "    </tr>\n",
              "    <tr>\n",
              "      <th>3</th>\n",
              "      <td>3</td>\n",
              "      <td>Got a letter in the mail last week that said D...</td>\n",
              "    </tr>\n",
              "    <tr>\n",
              "      <th>4</th>\n",
              "      <td>0</td>\n",
              "      <td>I don't know what Dr. Goldberg was like before...</td>\n",
              "    </tr>\n",
              "    <tr>\n",
              "      <th>5</th>\n",
              "      <td>4</td>\n",
              "      <td>Top notch doctor in a top notch practice. Can'...</td>\n",
              "    </tr>\n",
              "    <tr>\n",
              "      <th>6</th>\n",
              "      <td>4</td>\n",
              "      <td>Dr. Eric Goldberg is a fantastic doctor who ha...</td>\n",
              "    </tr>\n",
              "    <tr>\n",
              "      <th>7</th>\n",
              "      <td>0</td>\n",
              "      <td>I'm writing this review to give you a heads up...</td>\n",
              "    </tr>\n",
              "    <tr>\n",
              "      <th>8</th>\n",
              "      <td>1</td>\n",
              "      <td>Wing sauce is like water. Pretty much a lot of...</td>\n",
              "    </tr>\n",
              "    <tr>\n",
              "      <th>9</th>\n",
              "      <td>2</td>\n",
              "      <td>Decent range somewhat close to the city.  The ...</td>\n",
              "    </tr>\n",
              "  </tbody>\n",
              "</table>\n",
              "</div>"
            ],
            "text/plain": [
              "   label                                               text\n",
              "0      4  dr. goldberg offers everything i look for in a...\n",
              "1      1  Unfortunately, the frustration of being Dr. Go...\n",
              "2      3  Been going to Dr. Goldberg for over 10 years. ...\n",
              "3      3  Got a letter in the mail last week that said D...\n",
              "4      0  I don't know what Dr. Goldberg was like before...\n",
              "5      4  Top notch doctor in a top notch practice. Can'...\n",
              "6      4  Dr. Eric Goldberg is a fantastic doctor who ha...\n",
              "7      0  I'm writing this review to give you a heads up...\n",
              "8      1  Wing sauce is like water. Pretty much a lot of...\n",
              "9      2  Decent range somewhat close to the city.  The ..."
            ]
          },
          "execution_count": 34,
          "metadata": {},
          "output_type": "execute_result"
        }
      ],
      "source": [
        "df.head(10)"
      ]
    },
    {
      "cell_type": "code",
      "execution_count": 35,
      "metadata": {},
      "outputs": [
        {
          "data": {
            "text/plain": [
              "\"dr. goldberg offers everything i look for in a general practitioner.  he's nice and easy to talk to without being patronizing; he's always on time in seeing his patients; he's affiliated with a top-notch hospital (nyu) which my parents have explained to me is very important in case something happens and you need surgery; and you can get referrals to see specialists without having to see him first.  really, what more do you need?  i'm sitting here trying to think of any complaints i have about him, but i'm really drawing a blank.\""
            ]
          },
          "execution_count": 35,
          "metadata": {},
          "output_type": "execute_result"
        }
      ],
      "source": [
        "df['text'][0]"
      ]
    },
    {
      "cell_type": "code",
      "execution_count": 36,
      "metadata": {
        "id": "a_nJi-FjyQ4k"
      },
      "outputs": [],
      "source": [
        "# Randomly sample 50,000 entries\n",
        "sampled_df = df.sample(n=50000, random_state=42)"
      ]
    },
    {
      "cell_type": "code",
      "execution_count": 37,
      "metadata": {
        "colab": {
          "base_uri": "https://localhost:8080/"
        },
        "id": "SGMiKsbdl-Ju",
        "outputId": "e7eabbc6-f030-42ff-f75f-a48a95803b64"
      },
      "outputs": [
        {
          "name": "stdout",
          "output_type": "stream",
          "text": [
            "label    0\n",
            "text     0\n",
            "dtype: int64\n",
            "label\n",
            "3    10131\n",
            "2    10095\n",
            "0    10049\n",
            "1     9966\n",
            "4     9759\n",
            "Name: count, dtype: int64\n"
          ]
        }
      ],
      "source": [
        "# Check null values\n",
        "print(sampled_df.isnull().sum().sort_values(ascending = False)) # Check nulls\n",
        "\n",
        "print(sampled_df[\"label\"].value_counts())"
      ]
    },
    {
      "cell_type": "markdown",
      "metadata": {
        "id": "V6Zys59NoLB5"
      },
      "source": [
        "## Step 3: Data preprocessing\n"
      ]
    },
    {
      "cell_type": "markdown",
      "metadata": {
        "id": "iHHzHtSsjz6o"
      },
      "source": [
        "#### Step 3.1: Create outcome variable"
      ]
    },
    {
      "cell_type": "markdown",
      "metadata": {
        "id": "bD0KD8KBcVhO"
      },
      "source": [
        "Binary"
      ]
    },
    {
      "cell_type": "code",
      "execution_count": 38,
      "metadata": {
        "id": "Ns_RmPnicXQ1"
      },
      "outputs": [
        {
          "data": {
            "text/plain": [
              "label\n",
              "0    20015\n",
              "1    10095\n",
              "2    19890\n",
              "Name: count, dtype: int64"
            ]
          },
          "execution_count": 38,
          "metadata": {},
          "output_type": "execute_result"
        }
      ],
      "source": [
        "## define outcome variable with 0 being negative, 1 being mixed, and 2 being positive and ##\n",
        "#############################\n",
        "\n",
        "#Remove 3 star food reviews\n",
        "#sampled_df = sampled_df[sampled_df['label']!=2]\n",
        "\n",
        "rating_dict = {0: 0, 1: 0, 2: 1, 3: 2, 4: 2}\n",
        "\n",
        "sampled_df[\"label\"] = sampled_df.label.map(rating_dict)\n",
        "sampled_df[\"label\"].value_counts().sort_index()"
      ]
    },
    {
      "cell_type": "markdown",
      "metadata": {},
      "source": [
        "#### Step 3.2: Undersample the Majority Class to match the Mixed Class"
      ]
    },
    {
      "cell_type": "code",
      "execution_count": 48,
      "metadata": {},
      "outputs": [
        {
          "data": {
            "text/plain": [
              "label\n",
              "0    10095\n",
              "1    10095\n",
              "2    10095\n",
              "Name: count, dtype: int64"
            ]
          },
          "execution_count": 48,
          "metadata": {},
          "output_type": "execute_result"
        }
      ],
      "source": [
        "df_negative_class = sampled_df[sampled_df['label'] == 0]\n",
        "df_mixed_class = sampled_df[sampled_df['label'] == 1]\n",
        "df_positive_class = sampled_df[sampled_df['label'] == 2]\n",
        "\n",
        "\n",
        "# Resample the negative and positive class to match mixed class\n",
        "df_negative_class_downsampled = resample(df_negative_class,\n",
        "                                  replace=False,\n",
        "                                  n_samples=len(df_mixed_class),\n",
        "                                  random_state=1)\n",
        "\n",
        "df_positive_class_downsampled = resample(df_positive_class,\n",
        "                                  replace=False,\n",
        "                                  n_samples=len(df_mixed_class),\n",
        "                                  random_state=1)\n",
        "\n",
        "# Combine all classes\n",
        "df_balanced = pd.concat([df_negative_class_downsampled, df_mixed_class, df_positive_class_downsampled])\n",
        "\n",
        "# Shuffle the dataset\n",
        "df_balanced = df_balanced.sample(frac=1).reset_index(drop=True)\n",
        "\n",
        "#check the balanced dataset\n",
        "df_balanced[\"label\"].value_counts().sort_index()"
      ]
    },
    {
      "cell_type": "markdown",
      "metadata": {},
      "source": [
        "##### Data is balanced"
      ]
    },
    {
      "cell_type": "markdown",
      "metadata": {},
      "source": [
        "#### Step 3.3: Preprocess Text"
      ]
    },
    {
      "cell_type": "code",
      "execution_count": 40,
      "metadata": {},
      "outputs": [
        {
          "data": {
            "text/plain": [
              "0        Awesome food! Hands down the best Italian deli...\n",
              "1        I know it's a good deal on the Strip, but plea...\n",
              "2        I came here when it first opened & got in w. n...\n",
              "3        I was very happy with AHR. They were very acco...\n",
              "4        It is a good place for drinks and late night s...\n",
              "                               ...                        \n",
              "30090    Thankfully my sister-in-law directed me to Al'...\n",
              "30091    DP Dough... \\n\\nMy first impression of this pl...\n",
              "30092    Boyfriend and i come here after dinner all the...\n",
              "30093    I came across these guys while they were worki...\n",
              "30094    We ate at the deli.  Their eggplant Parmesan s...\n",
              "Name: text, Length: 30095, dtype: object"
            ]
          },
          "execution_count": 40,
          "metadata": {},
          "output_type": "execute_result"
        }
      ],
      "source": [
        "df_balanced['text']"
      ]
    },
    {
      "cell_type": "code",
      "execution_count": 41,
      "metadata": {
        "colab": {
          "base_uri": "https://localhost:8080/",
          "height": 1000
        },
        "id": "PALywsIE5GHM",
        "outputId": "e8a05108-3c48-44bd-d9da-7c31d428a982"
      },
      "outputs": [],
      "source": [
        "def preprocess_review(review):\n",
        "    \"\"\"Ensures the input is a string, converts it to lovercase, removes puncuation, \n",
        "    keeps alphabetical words only, remove any whitespaces\"\"\"\n",
        "    if isinstance(review, list):\n",
        "        review = ' '.join(review)\n",
        "    review = review.lower()\n",
        "    review = ''.join([char for char in review if char not in string.punctuation])\n",
        "    review = ' '.join([word for word in review.split() if word.isalpha()])\n",
        "    review = ' '.join(review.split())\n",
        "    return review\n",
        "\n",
        "df_balanced['text'] = df_balanced['text'].apply(preprocess_review)"
      ]
    },
    {
      "cell_type": "code",
      "execution_count": 42,
      "metadata": {},
      "outputs": [
        {
          "data": {
            "text/html": [
              "<div>\n",
              "<style scoped>\n",
              "    .dataframe tbody tr th:only-of-type {\n",
              "        vertical-align: middle;\n",
              "    }\n",
              "\n",
              "    .dataframe tbody tr th {\n",
              "        vertical-align: top;\n",
              "    }\n",
              "\n",
              "    .dataframe thead th {\n",
              "        text-align: right;\n",
              "    }\n",
              "</style>\n",
              "<table border=\"1\" class=\"dataframe\">\n",
              "  <thead>\n",
              "    <tr style=\"text-align: right;\">\n",
              "      <th></th>\n",
              "      <th>label</th>\n",
              "      <th>text</th>\n",
              "    </tr>\n",
              "  </thead>\n",
              "  <tbody>\n",
              "    <tr>\n",
              "      <th>0</th>\n",
              "      <td>1</td>\n",
              "      <td>awesome food hands down the best italian deli ...</td>\n",
              "    </tr>\n",
              "    <tr>\n",
              "      <th>1</th>\n",
              "      <td>0</td>\n",
              "      <td>i know its a good deal on the strip but please...</td>\n",
              "    </tr>\n",
              "    <tr>\n",
              "      <th>2</th>\n",
              "      <td>1</td>\n",
              "      <td>i came here when it first opened got in w no l...</td>\n",
              "    </tr>\n",
              "    <tr>\n",
              "      <th>3</th>\n",
              "      <td>2</td>\n",
              "      <td>i was very happy with ahr they were very accom...</td>\n",
              "    </tr>\n",
              "    <tr>\n",
              "      <th>4</th>\n",
              "      <td>0</td>\n",
              "      <td>it is a good place for drinks and late night s...</td>\n",
              "    </tr>\n",
              "    <tr>\n",
              "      <th>...</th>\n",
              "      <td>...</td>\n",
              "      <td>...</td>\n",
              "    </tr>\n",
              "    <tr>\n",
              "      <th>30090</th>\n",
              "      <td>2</td>\n",
              "      <td>thankfully my sisterinlaw directed me to als b...</td>\n",
              "    </tr>\n",
              "    <tr>\n",
              "      <th>30091</th>\n",
              "      <td>1</td>\n",
              "      <td>dp dough nnmy first impression of this place w...</td>\n",
              "    </tr>\n",
              "    <tr>\n",
              "      <th>30092</th>\n",
              "      <td>2</td>\n",
              "      <td>boyfriend and i come here after dinner all the...</td>\n",
              "    </tr>\n",
              "    <tr>\n",
              "      <th>30093</th>\n",
              "      <td>0</td>\n",
              "      <td>i came across these guys while they were worki...</td>\n",
              "    </tr>\n",
              "    <tr>\n",
              "      <th>30094</th>\n",
              "      <td>1</td>\n",
              "      <td>we ate at the deli their eggplant parmesan san...</td>\n",
              "    </tr>\n",
              "  </tbody>\n",
              "</table>\n",
              "<p>30095 rows × 2 columns</p>\n",
              "</div>"
            ],
            "text/plain": [
              "       label                                               text\n",
              "0          1  awesome food hands down the best italian deli ...\n",
              "1          0  i know its a good deal on the strip but please...\n",
              "2          1  i came here when it first opened got in w no l...\n",
              "3          2  i was very happy with ahr they were very accom...\n",
              "4          0  it is a good place for drinks and late night s...\n",
              "...      ...                                                ...\n",
              "30090      2  thankfully my sisterinlaw directed me to als b...\n",
              "30091      1  dp dough nnmy first impression of this place w...\n",
              "30092      2  boyfriend and i come here after dinner all the...\n",
              "30093      0  i came across these guys while they were worki...\n",
              "30094      1  we ate at the deli their eggplant parmesan san...\n",
              "\n",
              "[30095 rows x 2 columns]"
            ]
          },
          "execution_count": 42,
          "metadata": {},
          "output_type": "execute_result"
        }
      ],
      "source": [
        "df_balanced"
      ]
    },
    {
      "cell_type": "code",
      "execution_count": 43,
      "metadata": {
        "id": "dw1z2Oq7EAV6"
      },
      "outputs": [],
      "source": [
        "# Export test as CSV\n",
        "csv_filename = 'x'\n",
        "df_balanced.to_csv(csv_filename, index=False)"
      ]
    },
    {
      "cell_type": "markdown",
      "metadata": {
        "id": "ukrOOkWNoZVg"
      },
      "source": [
        "## Step 4: EDA"
      ]
    },
    {
      "cell_type": "code",
      "execution_count": 44,
      "metadata": {},
      "outputs": [
        {
          "data": {
            "image/png": "[encoded data removed]",
            "text/plain": [
              "<Figure size 640x480 with 1 Axes>"
            ]
          },
          "metadata": {},
          "output_type": "display_data"
        },
        {
          "data": {
            "image/png": "[encoded data removed]",
            "text/plain": [
              "<Figure size 640x480 with 1 Axes>"
            ]
          },
          "metadata": {},
          "output_type": "display_data"
        }
      ],
      "source": [
        "#Analyze text length and word count\n",
        "df_balanced['text_length'] = df_balanced['text'].apply(len)\n",
        "df_balanced['word_count'] = df_balanced['text'].apply(lambda x: len(x.split()))\n",
        "\n",
        "sns.histplot(df_balanced['text_length'], kde=True)\n",
        "plt.title('Text Length Distribution')\n",
        "plt.show()\n",
        "\n",
        "sns.histplot(df_balanced['word_count'], kde=True)\n",
        "plt.title('Word Count Distribution')\n",
        "plt.show()"
      ]
    },
    {
      "cell_type": "code",
      "execution_count": 45,
      "metadata": {
        "colab": {
          "base_uri": "https://localhost:8080/",
          "height": 487
        },
        "id": "EHuZULHzBqc-",
        "outputId": "e244118d-2dc0-44c1-b063-b20972a06dcb"
      },
      "outputs": [
        {
          "data": {
            "image/png": "[encoded data removed]",
            "text/plain": [
              "<Figure size 640x480 with 1 Axes>"
            ]
          },
          "metadata": {},
          "output_type": "display_data"
        }
      ],
      "source": [
        "df_balanced['sentiment'] = df_balanced['text'].apply(lambda x: TextBlob(x).sentiment.polarity)\n",
        "sns.histplot(df_balanced['sentiment'], kde=True)\n",
        "plt.title('Sentiment Polarity Distribution')\n",
        "plt.show()"
      ]
    }
  ],
  "metadata": {
    "colab": {
      "provenance": [],
      "toc_visible": true
    },
    "kernelspec": {
      "display_name": "Python 3",
      "name": "python3"
    },
    "language_info": {
      "codemirror_mode": {
        "name": "ipython",
        "version": 3
      },
      "file_extension": ".py",
      "mimetype": "text/x-python",
      "name": "python",
      "nbconvert_exporter": "python",
      "pygments_lexer": "ipython3",
      "version": "3.12.1"
    }
  },
  "nbformat": 4,
  "nbformat_minor": 0
}
