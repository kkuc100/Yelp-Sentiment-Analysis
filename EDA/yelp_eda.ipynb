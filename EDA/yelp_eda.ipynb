{
  "cells": [
    {
      "cell_type": "markdown",
      "metadata": {
        "id": "qTW9bApUattE"
      },
      "source": [
        "# Yelp Sentiment EDA\n",
        "266 Summer 2024\n",
        "Kevin Kuc, "
      ]
    },
    {
      "cell_type": "markdown",
      "metadata": {
        "id": "PKiliRegbDzj"
      },
      "source": [
        "The data is publically available here:\n",
        "*   https://huggingface.co/datasets/Yelp/yelp_review_full\n",
        "\n",
        "\n",
        "**Data Dictionary**\n",
        "\n",
        "1.   'text': The review texts are escaped using double quotes (\"), and any internal double quote is escaped by 2 double quotes (\"\"). New lines are escaped by a backslash followed with an \"n\" character, that is \"\\n\".\n",
        "2.   'label': Corresponds to the score associated with the review (between 1 and 5)."
      ]
    },
    {
      "cell_type": "markdown",
      "metadata": {
        "id": "yxG_clgliD3S"
      },
      "source": [
        "## Step 1: Import packages"
      ]
    },
    {
      "cell_type": "code",
      "execution_count": 52,
      "metadata": {
        "id": "4HU-TTTLiUab"
      },
      "outputs": [],
      "source": [
        "import pandas as pd\n",
        "import numpy as np\n",
        "import csv\n",
        "import copy\n",
        "from datasets import load_dataset\n",
        "\n",
        "# data preprocessing\n",
        "from sklearn import preprocessing\n",
        "from sklearn.utils import resample\n",
        "from sklearn.model_selection import train_test_split\n",
        "from sklearn.preprocessing import StandardScaler\n",
        "from sklearn.decomposition import PCA\n",
        "from sklearn.decomposition import KernelPCA\n",
        "from sklearn.decomposition import IncrementalPCA\n",
        "from numpy.random.mtrand import binomial\n",
        "import random\n",
        "import string\n",
        "from nltk.corpus import stopwords\n",
        "from contractions import fix\n",
        "\n",
        "# exploratory analysis\n",
        "import matplotlib.pyplot as plt\n",
        "from matplotlib import cm\n",
        "from matplotlib.colors import ListedColormap, LinearSegmentedColormap\n",
        "import mlxtend\n",
        "from mlxtend.plotting import scatterplotmatrix\n",
        "from mlxtend.plotting import heatmap\n",
        "import seaborn as sns\n",
        "from IPython.display import Image\n",
        "from textblob import TextBlob\n",
        "from wordcloud import WordCloud\n",
        "\n",
        "# model fit\n",
        "import statsmodels.api as sm\n",
        "#import tensorflow as tf\n",
        "#from tensorflow import keras\n",
        "#from keras import metrics\n",
        "#from tensorflow.keras import initializers\n",
        "\n",
        "\n",
        "# ignore warnings (libraries are rapidly changing)\n",
        "import warnings\n",
        "warnings.filterwarnings('ignore')\n",
        "warnings.filterwarnings(\"ignore\", category=UserWarning, module=\"matplotlib\")\n",
        "\n",
        "# These commands below set some options for pandas and to have matplotlib show the charts in the notebook\n",
        "pd.set_option('display.max_rows', 1000)\n",
        "pd.set_option('display.max_columns', None)\n",
        "pd.options.display.float_format = '{:,.2f}'.format\n",
        "pd.options.mode.chained_assignment = None  # default='warn'"
      ]
    },
    {
      "cell_type": "markdown",
      "metadata": {
        "id": "aHv2i3W5ijto"
      },
      "source": [
        "## Step 2: Read data"
      ]
    },
    {
      "cell_type": "code",
      "execution_count": 53,
      "metadata": {
        "colab": {
          "base_uri": "https://localhost:8080/"
        },
        "id": "-XkCqoc1kMnU",
        "outputId": "50c2a0f8-b7ec-4a86-e93e-e556714d50b4"
      },
      "outputs": [
        {
          "name": "stdout",
          "output_type": "stream",
          "text": [
            "Shape of data:  (650000, 2)\n"
          ]
        }
      ],
      "source": [
        "dataset = load_dataset('yelp_review_full')\n",
        "df = dataset['train'].to_pandas()\n",
        "# print shape of df\n",
        "print(\n",
        "    'Shape of data: ',\n",
        "    df.shape\n",
        ")"
      ]
    },
    {
      "cell_type": "code",
      "execution_count": 54,
      "metadata": {},
      "outputs": [
        {
          "data": {
            "text/html": [
              "<div>\n",
              "<style scoped>\n",
              "    .dataframe tbody tr th:only-of-type {\n",
              "        vertical-align: middle;\n",
              "    }\n",
              "\n",
              "    .dataframe tbody tr th {\n",
              "        vertical-align: top;\n",
              "    }\n",
              "\n",
              "    .dataframe thead th {\n",
              "        text-align: right;\n",
              "    }\n",
              "</style>\n",
              "<table border=\"1\" class=\"dataframe\">\n",
              "  <thead>\n",
              "    <tr style=\"text-align: right;\">\n",
              "      <th></th>\n",
              "      <th>label</th>\n",
              "      <th>text</th>\n",
              "    </tr>\n",
              "  </thead>\n",
              "  <tbody>\n",
              "    <tr>\n",
              "      <th>0</th>\n",
              "      <td>4</td>\n",
              "      <td>dr. goldberg offers everything i look for in a...</td>\n",
              "    </tr>\n",
              "    <tr>\n",
              "      <th>1</th>\n",
              "      <td>1</td>\n",
              "      <td>Unfortunately, the frustration of being Dr. Go...</td>\n",
              "    </tr>\n",
              "    <tr>\n",
              "      <th>2</th>\n",
              "      <td>3</td>\n",
              "      <td>Been going to Dr. Goldberg for over 10 years. ...</td>\n",
              "    </tr>\n",
              "    <tr>\n",
              "      <th>3</th>\n",
              "      <td>3</td>\n",
              "      <td>Got a letter in the mail last week that said D...</td>\n",
              "    </tr>\n",
              "    <tr>\n",
              "      <th>4</th>\n",
              "      <td>0</td>\n",
              "      <td>I don't know what Dr. Goldberg was like before...</td>\n",
              "    </tr>\n",
              "    <tr>\n",
              "      <th>5</th>\n",
              "      <td>4</td>\n",
              "      <td>Top notch doctor in a top notch practice. Can'...</td>\n",
              "    </tr>\n",
              "    <tr>\n",
              "      <th>6</th>\n",
              "      <td>4</td>\n",
              "      <td>Dr. Eric Goldberg is a fantastic doctor who ha...</td>\n",
              "    </tr>\n",
              "    <tr>\n",
              "      <th>7</th>\n",
              "      <td>0</td>\n",
              "      <td>I'm writing this review to give you a heads up...</td>\n",
              "    </tr>\n",
              "    <tr>\n",
              "      <th>8</th>\n",
              "      <td>1</td>\n",
              "      <td>Wing sauce is like water. Pretty much a lot of...</td>\n",
              "    </tr>\n",
              "    <tr>\n",
              "      <th>9</th>\n",
              "      <td>2</td>\n",
              "      <td>Decent range somewhat close to the city.  The ...</td>\n",
              "    </tr>\n",
              "  </tbody>\n",
              "</table>\n",
              "</div>"
            ],
            "text/plain": [
              "   label                                               text\n",
              "0      4  dr. goldberg offers everything i look for in a...\n",
              "1      1  Unfortunately, the frustration of being Dr. Go...\n",
              "2      3  Been going to Dr. Goldberg for over 10 years. ...\n",
              "3      3  Got a letter in the mail last week that said D...\n",
              "4      0  I don't know what Dr. Goldberg was like before...\n",
              "5      4  Top notch doctor in a top notch practice. Can'...\n",
              "6      4  Dr. Eric Goldberg is a fantastic doctor who ha...\n",
              "7      0  I'm writing this review to give you a heads up...\n",
              "8      1  Wing sauce is like water. Pretty much a lot of...\n",
              "9      2  Decent range somewhat close to the city.  The ..."
            ]
          },
          "execution_count": 54,
          "metadata": {},
          "output_type": "execute_result"
        }
      ],
      "source": [
        "df.head(10)"
      ]
    },
    {
      "cell_type": "code",
      "execution_count": 55,
      "metadata": {},
      "outputs": [
        {
          "data": {
            "text/plain": [
              "\"dr. goldberg offers everything i look for in a general practitioner.  he's nice and easy to talk to without being patronizing; he's always on time in seeing his patients; he's affiliated with a top-notch hospital (nyu) which my parents have explained to me is very important in case something happens and you need surgery; and you can get referrals to see specialists without having to see him first.  really, what more do you need?  i'm sitting here trying to think of any complaints i have about him, but i'm really drawing a blank.\""
            ]
          },
          "execution_count": 55,
          "metadata": {},
          "output_type": "execute_result"
        }
      ],
      "source": [
        "df['text'][0]"
      ]
    },
    {
      "cell_type": "code",
      "execution_count": 56,
      "metadata": {
        "id": "a_nJi-FjyQ4k"
      },
      "outputs": [],
      "source": [
        "# Randomly sample 50,000 entries\n",
        "sampled_df = df.sample(n=100000, random_state=42)"
      ]
    },
    {
      "cell_type": "code",
      "execution_count": 57,
      "metadata": {
        "colab": {
          "base_uri": "https://localhost:8080/"
        },
        "id": "SGMiKsbdl-Ju",
        "outputId": "e7eabbc6-f030-42ff-f75f-a48a95803b64"
      },
      "outputs": [
        {
          "name": "stdout",
          "output_type": "stream",
          "text": [
            "label    0\n",
            "text     0\n",
            "dtype: int64\n",
            "label\n",
            "2    20161\n",
            "3    20097\n",
            "0    20083\n",
            "1    19946\n",
            "4    19713\n",
            "Name: count, dtype: int64\n"
          ]
        }
      ],
      "source": [
        "# Check null values\n",
        "print(sampled_df.isnull().sum().sort_values(ascending = False)) # Check nulls\n",
        "\n",
        "print(sampled_df[\"label\"].value_counts())"
      ]
    },
    {
      "cell_type": "markdown",
      "metadata": {
        "id": "V6Zys59NoLB5"
      },
      "source": [
        "## Step 3: Data preprocessing\n"
      ]
    },
    {
      "cell_type": "markdown",
      "metadata": {},
      "source": [
        "#### Step 3.1: Preprocess Text"
      ]
    },
    {
      "cell_type": "code",
      "execution_count": 58,
      "metadata": {},
      "outputs": [],
      "source": [
        "def preprocess_review(review):\n",
        "    \"\"\"Ensures the input is a string, converts it to lovercase, removes puncuation, \n",
        "    keeps alphabetical words only, remove any whitespaces\"\"\"\n",
        "    if isinstance(review, list):\n",
        "        review = ' '.join(review)\n",
        "    review = review.lower()\n",
        "    review = ''.join([char for char in review if char not in string.punctuation])\n",
        "    review = ' '.join([word for word in review.split() if word.isalpha()])\n",
        "    review = ' '.join(review.split())\n",
        "    return review\n",
        "\n",
        "sampled_df['text'] = sampled_df['text'].apply(preprocess_review)"
      ]
    },
    {
      "cell_type": "markdown",
      "metadata": {
        "id": "iHHzHtSsjz6o"
      },
      "source": [
        "#### Step 3.2: Create Multiclass outcome variable"
      ]
    },
    {
      "cell_type": "code",
      "execution_count": 59,
      "metadata": {
        "id": "Ns_RmPnicXQ1"
      },
      "outputs": [
        {
          "data": {
            "text/plain": [
              "label\n",
              "0    40029\n",
              "1    20161\n",
              "2    39810\n",
              "Name: count, dtype: int64"
            ]
          },
          "execution_count": 59,
          "metadata": {},
          "output_type": "execute_result"
        }
      ],
      "source": [
        "## define outcome variable with 0 being negative, 1 being mixed, and 2 being positive and ##\n",
        "#############################\n",
        "\n",
        "rating_dict = {0: 0, 1: 0, 2: 1, 3: 2, 4: 2}\n",
        "multi_df = copy.deepcopy(sampled_df)\n",
        "multi_df[\"label\"] = multi_df.label.map(rating_dict)\n",
        "multi_df[\"label\"].value_counts().sort_index()"
      ]
    },
    {
      "cell_type": "markdown",
      "metadata": {},
      "source": [
        "##### Step 3.2.1: Undersample the Majority Class to match the Mixed Class"
      ]
    },
    {
      "cell_type": "code",
      "execution_count": 60,
      "metadata": {},
      "outputs": [
        {
          "data": {
            "text/plain": [
              "label\n",
              "0    20161\n",
              "1    20161\n",
              "2    20161\n",
              "Name: count, dtype: int64"
            ]
          },
          "execution_count": 60,
          "metadata": {},
          "output_type": "execute_result"
        }
      ],
      "source": [
        "df_negative_class = multi_df[multi_df['label'] == 0]\n",
        "df_mixed_class = multi_df[multi_df['label'] == 1]\n",
        "df_positive_class = multi_df[multi_df['label'] == 2]\n",
        "\n",
        "\n",
        "# Resample the negative and positive class to match mixed class\n",
        "df_negative_class_downsampled = resample(df_negative_class,\n",
        "                                  replace=False,\n",
        "                                  n_samples=len(df_mixed_class),\n",
        "                                  random_state=1)\n",
        "\n",
        "df_positive_class_downsampled = resample(df_positive_class,\n",
        "                                  replace=False,\n",
        "                                  n_samples=len(df_mixed_class),\n",
        "                                  random_state=1)\n",
        "\n",
        "# Combine all classes\n",
        "multi_df_balanced = pd.concat([df_negative_class_downsampled, df_mixed_class, df_positive_class_downsampled])\n",
        "\n",
        "# Shuffle the dataset\n",
        "multi_df_balanced = multi_df_balanced.sample(frac=1).reset_index(drop=True)\n",
        "\n",
        "#check the balanced dataset\n",
        "multi_df_balanced[\"label\"].value_counts().sort_index()"
      ]
    },
    {
      "cell_type": "code",
      "execution_count": 61,
      "metadata": {},
      "outputs": [
        {
          "data": {
            "text/plain": [
              "0        went during a ufc fight fight is free no cover...\n",
              "1        way overpriced stale bread was horrible dollar...\n",
              "2        ive been to this dennys many times this time i...\n",
              "3        very nice staff and seating area two machines ...\n",
              "4        i went to this pollo loco last night and order...\n",
              "                               ...                        \n",
              "60478    i dont know why this always has such high revi...\n",
              "60479    while it doesnt serve genuine italian cuisine ...\n",
              "60480    i have been to timo a few times and always enj...\n",
              "60481    we walked up at there is no line really this m...\n",
              "60482    a reasonable facsimile of a california bistro ...\n",
              "Name: text, Length: 60483, dtype: object"
            ]
          },
          "execution_count": 61,
          "metadata": {},
          "output_type": "execute_result"
        }
      ],
      "source": [
        "multi_df_balanced['text']"
      ]
    },
    {
      "cell_type": "markdown",
      "metadata": {},
      "source": [
        "#### Step 3.3: Create Binary outcome variable"
      ]
    },
    {
      "cell_type": "code",
      "execution_count": 62,
      "metadata": {},
      "outputs": [
        {
          "data": {
            "text/plain": [
              "label\n",
              "0    40029\n",
              "1    39810\n",
              "Name: count, dtype: int64"
            ]
          },
          "execution_count": 62,
          "metadata": {},
          "output_type": "execute_result"
        }
      ],
      "source": [
        "## define outcome variable with 0 being negative and 1 being positive##\n",
        "#############################\n",
        "binary_sampled_df = copy.deepcopy(sampled_df)\n",
        "binary_sampled_df = binary_sampled_df[binary_sampled_df['label'] != 2]\n",
        "rating_dict = {0: 0, 1: 0, 3: 1, 4: 1}\n",
        "\n",
        "binary_sampled_df[\"label\"] = binary_sampled_df.label.map(rating_dict)\n",
        "binary_sampled_df[\"label\"].value_counts().sort_index()"
      ]
    },
    {
      "cell_type": "code",
      "execution_count": 63,
      "metadata": {},
      "outputs": [
        {
          "data": {
            "text/plain": [
              "label\n",
              "0    16367\n",
              "1    16438\n",
              "Name: count, dtype: int64"
            ]
          },
          "execution_count": 63,
          "metadata": {},
          "output_type": "execute_result"
        }
      ],
      "source": [
        "binary_sampled_df['text_length'] = binary_sampled_df['text'].apply(len)\n",
        "\n",
        "# Calculate the average text length\n",
        "average_length = binary_sampled_df['text_length'].mean()\n",
        "binary_sampled_df = binary_sampled_df[(binary_sampled_df['text_length'] > 300) & (binary_sampled_df['text_length'] < 800)]\n",
        "binary_sampled_df[\"label\"].value_counts().sort_index()"
      ]
    },
    {
      "cell_type": "markdown",
      "metadata": {},
      "source": [
        "#### Step 3.4: All stars outcome variable"
      ]
    },
    {
      "cell_type": "code",
      "execution_count": 64,
      "metadata": {},
      "outputs": [
        {
          "data": {
            "text/plain": [
              "label\n",
              "0    20083\n",
              "1    19946\n",
              "2    20161\n",
              "3    20097\n",
              "4    19713\n",
              "Name: count, dtype: int64"
            ]
          },
          "execution_count": 64,
          "metadata": {},
          "output_type": "execute_result"
        }
      ],
      "source": [
        "## Include all stars##\n",
        "#############################\n",
        "all_df = copy.deepcopy(sampled_df)\n",
        "all_df[\"label\"].value_counts().sort_index()"
      ]
    },
    {
      "cell_type": "markdown",
      "metadata": {},
      "source": [
        "#### Step 3.5: Export Model"
      ]
    },
    {
      "cell_type": "code",
      "execution_count": 65,
      "metadata": {},
      "outputs": [],
      "source": [
        "binary_sampled_df.to_csv('binary_sampled.csv', index=False)  # Set index=False "
      ]
    },
    {
      "cell_type": "markdown",
      "metadata": {
        "id": "ukrOOkWNoZVg"
      },
      "source": [
        "## Step 4: EDA"
      ]
    },
    {
      "cell_type": "code",
      "execution_count": 66,
      "metadata": {},
      "outputs": [
        {
          "data": {
            "image/png": "[encoded data removed]",
            "text/plain": [
              "<Figure size 640x480 with 1 Axes>"
            ]
          },
          "metadata": {},
          "output_type": "display_data"
        },
        {
          "data": {
            "image/png": "[encoded data removed]",
            "text/plain": [
              "<Figure size 640x480 with 1 Axes>"
            ]
          },
          "metadata": {},
          "output_type": "display_data"
        }
      ],
      "source": [
        "#Analyze text length and word count\n",
        "all_df['text_length'] = all_df['text'].apply(len)\n",
        "all_df['word_count'] = all_df['text'].apply(lambda x: len(x.split()))\n",
        "\n",
        "sns.histplot(all_df['text_length'], kde=True)\n",
        "plt.title('Text Length Distribution')\n",
        "plt.show()\n",
        "\n",
        "sns.histplot(all_df['word_count'], kde=True)\n",
        "plt.title('Word Count Distribution')\n",
        "plt.show()"
      ]
    },
    {
      "cell_type": "code",
      "execution_count": 67,
      "metadata": {
        "colab": {
          "base_uri": "https://localhost:8080/",
          "height": 487
        },
        "id": "EHuZULHzBqc-",
        "outputId": "e244118d-2dc0-44c1-b063-b20972a06dcb"
      },
      "outputs": [
        {
          "data": {
            "image/png": "[encoded data removed]",
            "text/plain": [
              "<Figure size 640x480 with 1 Axes>"
            ]
          },
          "metadata": {},
          "output_type": "display_data"
        }
      ],
      "source": [
        "all_df['sentiment'] = all_df['text'].apply(lambda x: TextBlob(x).sentiment.polarity)\n",
        "sns.histplot(all_df['sentiment'], kde=True)\n",
        "plt.title('Sentiment Polarity Distribution')\n",
        "plt.show()"
      ]
    }
  ],
  "metadata": {
    "colab": {
      "provenance": [],
      "toc_visible": true
    },
    "kernelspec": {
      "display_name": "Python 3",
      "name": "python3"
    },
    "language_info": {
      "codemirror_mode": {
        "name": "ipython",
        "version": 3
      },
      "file_extension": ".py",
      "mimetype": "text/x-python",
      "name": "python",
      "nbconvert_exporter": "python",
      "pygments_lexer": "ipython3",
      "version": "3.12.1"
    }
  },
  "nbformat": 4,
  "nbformat_minor": 0
}
