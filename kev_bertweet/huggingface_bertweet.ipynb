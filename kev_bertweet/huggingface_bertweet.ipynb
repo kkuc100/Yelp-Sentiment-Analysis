{
 "cells": [
  {
   "cell_type": "code",
   "execution_count": 6,
   "metadata": {},
   "outputs": [],
   "source": [
    "import pandas as pd\n",
    "from pysentimiento import create_analyzer\n",
    "from sklearn.metrics import accuracy_score, precision_score, recall_score, f1_score"
   ]
  },
  {
   "cell_type": "code",
   "execution_count": 7,
   "metadata": {},
   "outputs": [
    {
     "data": {
      "text/plain": [
       "AnalyzerOutput(output=NEG, probas={NEG: 0.908, NEU: 0.089, POS: 0.003})"
      ]
     },
     "execution_count": 7,
     "metadata": {},
     "output_type": "execute_result"
    }
   ],
   "source": [
    "analyzer = create_analyzer(task=\"sentiment\", lang=\"en\")\n",
    "\n",
    "analyzer.predict(\"Why will you not take me to the gym to work out with you!\")"
   ]
  },
  {
   "cell_type": "markdown",
   "metadata": {},
   "source": [
    "#### Evaluate the Base Model"
   ]
  },
  {
   "cell_type": "code",
   "execution_count": 8,
   "metadata": {},
   "outputs": [],
   "source": [
    "# Read in data\n",
    "test_df = pd.read_csv(\"../EDA/test_multi.csv\")\n",
    "\n",
    "# Randomly sample 5,000 entries\n",
    "test_df = test_df.sample(n=200, random_state=1)\n",
    "\n",
    "# Change labels from numbers to their meaning\n",
    "label_dict = {0:'NEG', 1:'NEU', 2:'POS'}\n",
    "test_df['label'] = test_df['label'].map(label_dict)\n",
    "\n",
    "texts = test_df[\"text\"].tolist()\n",
    "true_labels = test_df[\"label\"].tolist()"
   ]
  },
  {
   "cell_type": "code",
   "execution_count": 9,
   "metadata": {},
   "outputs": [],
   "source": [
    "# Create the analyzer\n",
    "analyzer = create_analyzer(task=\"sentiment\", lang=\"en\")\n",
    "\n",
    "# Make predictions\n",
    "predicted_labels = []\n",
    "for text in texts:\n",
    "    prediction = analyzer.predict(text)\n",
    "    predicted_labels.append(prediction.output)"
   ]
  },
  {
   "cell_type": "code",
   "execution_count": 10,
   "metadata": {},
   "outputs": [
    {
     "name": "stdout",
     "output_type": "stream",
     "text": [
      "Accuracy: 0.625\n",
      "Precision: 0.6458333333333333\n",
      "Recall: 0.625\n",
      "F1 Score: 0.625\n"
     ]
    }
   ],
   "source": [
    "# Calculate evaluation metrics\n",
    "accuracy = accuracy_score(true_labels, predicted_labels)\n",
    "precision = precision_score(true_labels, predicted_labels, average='weighted')\n",
    "recall = recall_score(true_labels, predicted_labels, average='weighted')\n",
    "f1 = f1_score(true_labels, predicted_labels, average='weighted')\n",
    "\n",
    "print(f\"Accuracy: {accuracy}\")\n",
    "print(f\"Precision: {precision}\")\n",
    "print(f\"Recall: {recall}\")\n",
    "print(f\"F1 Score: {f1}\")"
   ]
  }
 ],
 "metadata": {
  "kernelspec": {
   "display_name": "venv",
   "language": "python",
   "name": "python3"
  },
  "language_info": {
   "codemirror_mode": {
    "name": "ipython",
    "version": 3
   },
   "file_extension": ".py",
   "mimetype": "text/x-python",
   "name": "python",
   "nbconvert_exporter": "python",
   "pygments_lexer": "ipython3",
   "version": "3.12.1"
  }
 },
 "nbformat": 4,
 "nbformat_minor": 2
}
